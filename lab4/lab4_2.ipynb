{
 "cells": [
  {
   "cell_type": "code",
   "execution_count": 1,
   "id": "6ca096ee-c483-4fbb-863d-feb2dda70ced",
   "metadata": {},
   "outputs": [
    {
     "name": "stderr",
     "output_type": "stream",
     "text": [
      "2024-12-28 00:49:29.611157: I tensorflow/core/util/port.cc:153] oneDNN custom operations are on. You may see slightly different numerical results due to floating-point round-off errors from different computation orders. To turn them off, set the environment variable `TF_ENABLE_ONEDNN_OPTS=0`.\n",
      "2024-12-28 00:49:29.621312: E external/local_xla/xla/stream_executor/cuda/cuda_fft.cc:477] Unable to register cuFFT factory: Attempting to register factory for plugin cuFFT when one has already been registered\n",
      "WARNING: All log messages before absl::InitializeLog() is called are written to STDERR\n",
      "E0000 00:00:1735346969.633763   14023 cuda_dnn.cc:8310] Unable to register cuDNN factory: Attempting to register factory for plugin cuDNN when one has already been registered\n",
      "E0000 00:00:1735346969.637338   14023 cuda_blas.cc:1418] Unable to register cuBLAS factory: Attempting to register factory for plugin cuBLAS when one has already been registered\n",
      "2024-12-28 00:49:29.650315: I tensorflow/core/platform/cpu_feature_guard.cc:210] This TensorFlow binary is optimized to use available CPU instructions in performance-critical operations.\n",
      "To enable the following instructions: AVX2 AVX512F AVX512_VNNI AVX512_BF16 FMA, in other operations, rebuild TensorFlow with the appropriate compiler flags.\n",
      "Device set to use cuda:0\n"
     ]
    }
   ],
   "source": [
    "from transformers import pipeline, AutoTokenizer, AutoModelForQuestionAnswering\n",
    "\n",
    "tokenizer = AutoTokenizer.from_pretrained(\"robinhad/ukrainian-qa\")\n",
    "model = AutoModelForQuestionAnswering.from_pretrained(\"robinhad/ukrainian-qa\")\n",
    "\n",
    "qa_model = pipeline(\"question-answering\", model=model.to(\"cpu\"), tokenizer=tokenizer)"
   ]
  },
  {
   "cell_type": "code",
   "execution_count": 8,
   "id": "cc0e51b4-4576-4316-9caf-2135606e1382",
   "metadata": {},
   "outputs": [
    {
     "name": "stdout",
     "output_type": "stream",
     "text": [
      "Питання: Яке покоління мобільних мереж 5G?\n",
      "Відповідь:  п’яте\n"
     ]
    }
   ],
   "source": [
    "context = \"Мобільна мережа 5G — це п’яте покоління мобільних мереж, яке забезпечує значно вищу швидкість передачі даних, меншу затримку та більшу кількість одночасних підключень порівняно з попередніми поколіннями.\"\n",
    "question = \"Яке покоління мобільних мереж 5G?\"\n",
    "\n",
    "answer = qa_model(question=question, context=context)\n",
    "print(f\"Питання: {question}\")\n",
    "print(f\"Відповідь: {answer['answer']}\")"
   ]
  },
  {
   "cell_type": "code",
   "execution_count": 7,
   "id": "67fad5fb-8bfe-4dc5-95db-cf67902c2511",
   "metadata": {},
   "outputs": [
    {
     "name": "stdout",
     "output_type": "stream",
     "text": [
      "Питання: Який метод автоматизації використовується для класифікації якості яєць?\n",
      "Відповідь:  згорткових нейронних мереж.\n",
      "Питання: Які категорії зображень містяться в датасеті для класифікації яєць?\n",
      "Відповідь:  пошкоджені та непошкоджені\n"
     ]
    }
   ],
   "source": [
    "context = \"Яйця класифікують на пошкоджені та непошкоджені для визначення їх якості. Цей процес автоматизують за допомогою згорткових нейронних мереж. Датасет містить зображення двох категорій: пошкоджені та непошкоджені яйця, які використовуються для навчання та тестування моделей.\"\n",
    "\n",
    "question = \"Який метод автоматизації використовується для класифікації якості яєць?\"\n",
    "answer = qa_model(question=question, context=context)\n",
    "print(f\"Питання: {question}\")\n",
    "print(f\"Відповідь: {answer['answer']}\")\n",
    "\n",
    "question = \"Які категорії зображень містяться в датасеті для класифікації яєць?\"\n",
    "answer = qa_model(question=question, context=context)\n",
    "print(f\"Питання: {question}\")\n",
    "print(f\"Відповідь: {answer['answer']}\")"
   ]
  },
  {
   "cell_type": "code",
   "execution_count": null,
   "id": "1e44e643-f51c-428b-8356-ab20017bc2c4",
   "metadata": {},
   "outputs": [],
   "source": []
  }
 ],
 "metadata": {
  "kernelspec": {
   "display_name": "Python 3 (ipykernel)",
   "language": "python",
   "name": "python3"
  },
  "language_info": {
   "codemirror_mode": {
    "name": "ipython",
    "version": 3
   },
   "file_extension": ".py",
   "mimetype": "text/x-python",
   "name": "python",
   "nbconvert_exporter": "python",
   "pygments_lexer": "ipython3",
   "version": "3.12.3"
  }
 },
 "nbformat": 4,
 "nbformat_minor": 5
}
