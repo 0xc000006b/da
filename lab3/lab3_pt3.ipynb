{
 "cells": [
  {
   "cell_type": "code",
   "execution_count": 1,
   "id": "70906ce8-0001-4383-ab20-0642a37a5e10",
   "metadata": {},
   "outputs": [
    {
     "name": "stderr",
     "output_type": "stream",
     "text": [
      "2024-12-28 00:38:25.741871: I tensorflow/core/util/port.cc:153] oneDNN custom operations are on. You may see slightly different numerical results due to floating-point round-off errors from different computation orders. To turn them off, set the environment variable `TF_ENABLE_ONEDNN_OPTS=0`.\n",
      "2024-12-28 00:38:26.020260: E external/local_xla/xla/stream_executor/cuda/cuda_fft.cc:477] Unable to register cuFFT factory: Attempting to register factory for plugin cuFFT when one has already been registered\n",
      "WARNING: All log messages before absl::InitializeLog() is called are written to STDERR\n",
      "E0000 00:00:1735346306.124630   12055 cuda_dnn.cc:8310] Unable to register cuDNN factory: Attempting to register factory for plugin cuDNN when one has already been registered\n",
      "E0000 00:00:1735346306.155269   12055 cuda_blas.cc:1418] Unable to register cuBLAS factory: Attempting to register factory for plugin cuBLAS when one has already been registered\n",
      "2024-12-28 00:38:26.418997: I tensorflow/core/platform/cpu_feature_guard.cc:210] This TensorFlow binary is optimized to use available CPU instructions in performance-critical operations.\n",
      "To enable the following instructions: AVX2 AVX512F AVX512_VNNI AVX512_BF16 FMA, in other operations, rebuild TensorFlow with the appropriate compiler flags.\n"
     ]
    }
   ],
   "source": [
    "import pandas as pd\n",
    "import string\n",
    "import numpy as np\n",
    "from sklearn.model_selection import train_test_split\n",
    "from sklearn.preprocessing import LabelEncoder\n",
    "from tensorflow.keras.preprocessing.text import Tokenizer\n",
    "from tensorflow.keras.preprocessing.sequence import pad_sequences\n",
    "from tensorflow.keras.models import Sequential\n",
    "from tensorflow.keras.layers import Embedding, LSTM, Dense\n",
    "import matplotlib.pyplot as plt\n",
    "\n",
    "data = pd.read_csv('../Emotion_classify_Data.csv', encoding='latin-1')\n",
    "\n",
    "def cleaning(value):\n",
    "    punctuation_cleaning = []\n",
    "    stopwords_cleaning_string = ''\n",
    "    \n",
    "    for i in value:\n",
    "        if i not in string.punctuation:\n",
    "            punctuation_cleaning.append(i)\n",
    "    punctuation_cleaning = \"\".join(punctuation_cleaning).split()\n",
    "    \n",
    "    stopwords_list = [\"a\", \"an\", \"the\", \"in\", \"on\", \"at\", \"is\", \"it\", \"and\", \"to\", \"of\"]\n",
    "    for j in punctuation_cleaning:\n",
    "        if j.lower() not in stopwords_list:\n",
    "            stopwords_cleaning_string += j.lower() + ' '\n",
    "    \n",
    "    return stopwords_cleaning_string\n",
    "\n",
    "data['Cleaned_Comment'] = data['Comment'].apply(cleaning)"
   ]
  },
  {
   "cell_type": "code",
   "execution_count": 2,
   "id": "e8f3168b-9cf4-4638-a7ab-fa1bec5974dd",
   "metadata": {},
   "outputs": [],
   "source": [
    "label_encoder = LabelEncoder()\n",
    "data['Emotion_Label'] = label_encoder.fit_transform(data['Emotion'])"
   ]
  },
  {
   "cell_type": "code",
   "execution_count": 3,
   "id": "2a2dea16-0da4-48f1-929b-5bb140acd48b",
   "metadata": {},
   "outputs": [],
   "source": [
    "X = data['Cleaned_Comment']\n",
    "y = data['Emotion_Label']\n",
    "X_train, X_test, y_train, y_test = train_test_split(X, y, test_size=0.2, random_state=12345, stratify=y)"
   ]
  },
  {
   "cell_type": "code",
   "execution_count": 4,
   "id": "2f6062c5-c6aa-4b20-85c2-a4ea7cfcfda9",
   "metadata": {},
   "outputs": [],
   "source": [
    "tokenizer = Tokenizer()\n",
    "tokenizer.fit_on_texts(X_train)\n",
    "X_train_seq = tokenizer.texts_to_sequences(X_train)\n",
    "X_test_seq = tokenizer.texts_to_sequences(X_test)\n",
    "maxlen = int(np.ceil(np.mean([len(x) for x in X_train_seq])))\n",
    "X_train_pad = pad_sequences(X_train_seq, maxlen=maxlen, padding='post')\n",
    "X_test_pad = pad_sequences(X_test_seq, maxlen=maxlen, padding='post')\n",
    "total_words = len(tokenizer.word_index) + 1"
   ]
  },
  {
   "cell_type": "code",
   "execution_count": 5,
   "id": "38576968-743e-40eb-b2ad-0f80b667ef50",
   "metadata": {},
   "outputs": [
    {
     "name": "stdout",
     "output_type": "stream",
     "text": [
      "Навчання моделі з нуля...\n",
      "Epoch 1/10\n"
     ]
    },
    {
     "name": "stderr",
     "output_type": "stream",
     "text": [
      "/home/user/.local/lib/python3.12/site-packages/keras/src/layers/core/embedding.py:90: UserWarning: Argument `input_length` is deprecated. Just remove it.\n",
      "  warnings.warn(\n",
      "I0000 00:00:1735346309.233451   12055 gpu_device.cc:2022] Created device /job:localhost/replica:0/task:0/device:GPU:0 with 9517 MB memory:  -> device: 0, name: NVIDIA GeForce RTX 4070 SUPER, pci bus id: 0000:01:00.0, compute capability: 8.9\n"
     ]
    },
    {
     "name": "stdout",
     "output_type": "stream",
     "text": [
      "\u001b[1m119/119\u001b[0m \u001b[32m━━━━━━━━━━━━━━━━━━━━\u001b[0m\u001b[37m\u001b[0m \u001b[1m8s\u001b[0m 48ms/step - accuracy: 0.3366 - loss: 1.0985 - val_accuracy: 0.4158 - val_loss: 1.0761\n",
      "Epoch 2/10\n",
      "\u001b[1m119/119\u001b[0m \u001b[32m━━━━━━━━━━━━━━━━━━━━\u001b[0m\u001b[37m\u001b[0m \u001b[1m6s\u001b[0m 52ms/step - accuracy: 0.5478 - loss: 0.9423 - val_accuracy: 0.6284 - val_loss: 0.7784\n",
      "Epoch 3/10\n",
      "\u001b[1m119/119\u001b[0m \u001b[32m━━━━━━━━━━━━━━━━━━━━\u001b[0m\u001b[37m\u001b[0m \u001b[1m7s\u001b[0m 58ms/step - accuracy: 0.6944 - loss: 0.6509 - val_accuracy: 0.6453 - val_loss: 0.7339\n",
      "Epoch 4/10\n",
      "\u001b[1m119/119\u001b[0m \u001b[32m━━━━━━━━━━━━━━━━━━━━\u001b[0m\u001b[37m\u001b[0m \u001b[1m7s\u001b[0m 57ms/step - accuracy: 0.7868 - loss: 0.4997 - val_accuracy: 0.7705 - val_loss: 0.6296\n",
      "Epoch 5/10\n",
      "\u001b[1m119/119\u001b[0m \u001b[32m━━━━━━━━━━━━━━━━━━━━\u001b[0m\u001b[37m\u001b[0m \u001b[1m6s\u001b[0m 50ms/step - accuracy: 0.8968 - loss: 0.3410 - val_accuracy: 0.7884 - val_loss: 0.5912\n",
      "Epoch 6/10\n",
      "\u001b[1m119/119\u001b[0m \u001b[32m━━━━━━━━━━━━━━━━━━━━\u001b[0m\u001b[37m\u001b[0m \u001b[1m7s\u001b[0m 60ms/step - accuracy: 0.9243 - loss: 0.2488 - val_accuracy: 0.8116 - val_loss: 0.5440\n",
      "Epoch 7/10\n",
      "\u001b[1m119/119\u001b[0m \u001b[32m━━━━━━━━━━━━━━━━━━━━\u001b[0m\u001b[37m\u001b[0m \u001b[1m7s\u001b[0m 57ms/step - accuracy: 0.9569 - loss: 0.1738 - val_accuracy: 0.8211 - val_loss: 0.5187\n",
      "Epoch 8/10\n",
      "\u001b[1m119/119\u001b[0m \u001b[32m━━━━━━━━━━━━━━━━━━━━\u001b[0m\u001b[37m\u001b[0m \u001b[1m7s\u001b[0m 56ms/step - accuracy: 0.9659 - loss: 0.1382 - val_accuracy: 0.8200 - val_loss: 0.5452\n",
      "Epoch 9/10\n",
      "\u001b[1m119/119\u001b[0m \u001b[32m━━━━━━━━━━━━━━━━━━━━\u001b[0m\u001b[37m\u001b[0m \u001b[1m6s\u001b[0m 49ms/step - accuracy: 0.9731 - loss: 0.1111 - val_accuracy: 0.8263 - val_loss: 0.5554\n",
      "Epoch 10/10\n",
      "\u001b[1m119/119\u001b[0m \u001b[32m━━━━━━━━━━━━━━━━━━━━\u001b[0m\u001b[37m\u001b[0m \u001b[1m7s\u001b[0m 55ms/step - accuracy: 0.9797 - loss: 0.0919 - val_accuracy: 0.8232 - val_loss: 0.5663\n"
     ]
    }
   ],
   "source": [
    "print(\"Навчання моделі з нуля...\")\n",
    "model_scratch = Sequential()\n",
    "model_scratch.add(Embedding(total_words, 32, input_length=maxlen))\n",
    "model_scratch.add(LSTM(10, dropout=0.2, recurrent_dropout=0.2))\n",
    "model_scratch.add(Dense(len(label_encoder.classes_), activation='softmax'))\n",
    "model_scratch.compile(loss='sparse_categorical_crossentropy', metrics=['accuracy'], optimizer='adam')\n",
    "history_scratch = model_scratch.fit(X_train_pad, y_train, epochs=10, batch_size=32, validation_split=0.2)"
   ]
  },
  {
   "cell_type": "code",
   "execution_count": 6,
   "id": "57b66e89-a4e3-409c-8055-ac3ff9cb5480",
   "metadata": {},
   "outputs": [
    {
     "name": "stdout",
     "output_type": "stream",
     "text": [
      "Завантаження pretrained embeddings...\n"
     ]
    }
   ],
   "source": [
    "print(\"Завантаження pretrained embeddings...\")\n",
    "embedding_dim = 50\n",
    "embedding_matrix = np.zeros((total_words, embedding_dim))\n",
    "for word, i in tokenizer.word_index.items():\n",
    "    if i < total_words:\n",
    "        embedding_matrix[i] = np.random.rand(embedding_dim)"
   ]
  },
  {
   "cell_type": "code",
   "execution_count": null,
   "id": "4754936e-2ebb-4f59-b558-597ae18125c9",
   "metadata": {},
   "outputs": [
    {
     "name": "stdout",
     "output_type": "stream",
     "text": [
      "Epoch 1/10\n",
      "\u001b[1m119/119\u001b[0m \u001b[32m━━━━━━━━━━━━━━━━━━━━\u001b[0m\u001b[37m\u001b[0m \u001b[1m8s\u001b[0m 60ms/step - accuracy: 0.3193 - loss: 1.1072 - val_accuracy: 0.3516 - val_loss: 1.0968\n",
      "Epoch 2/10\n",
      "\u001b[1m119/119\u001b[0m \u001b[32m━━━━━━━━━━━━━━━━━━━━\u001b[0m\u001b[37m\u001b[0m \u001b[1m7s\u001b[0m 56ms/step - accuracy: 0.3426 - loss: 1.0971 - val_accuracy: 0.3389 - val_loss: 1.0962\n",
      "Epoch 3/10\n",
      "\u001b[1m119/119\u001b[0m \u001b[32m━━━━━━━━━━━━━━━━━━━━\u001b[0m\u001b[37m\u001b[0m \u001b[1m7s\u001b[0m 55ms/step - accuracy: 0.3624 - loss: 1.0963 - val_accuracy: 0.3505 - val_loss: 1.0968\n",
      "Epoch 4/10\n",
      "\u001b[1m 46/119\u001b[0m \u001b[32m━━━━━━━\u001b[0m\u001b[37m━━━━━━━━━━━━━\u001b[0m \u001b[1m3s\u001b[0m 51ms/step - accuracy: 0.3426 - loss: 1.0959"
     ]
    }
   ],
   "source": [
    "model_pretrained = Sequential()\n",
    "model_pretrained.add(Embedding(\n",
    "    total_words,\n",
    "    embedding_dim,\n",
    "    weights=[embedding_matrix],\n",
    "    input_length=maxlen,\n",
    "    trainable=False\n",
    "))\n",
    "model_pretrained.add(LSTM(10, dropout=0.2, recurrent_dropout=0.2))\n",
    "model_pretrained.add(Dense(len(label_encoder.classes_), activation='softmax'))\n",
    "model_pretrained.compile(loss='sparse_categorical_crossentropy', metrics=['accuracy'], optimizer='adam')\n",
    "history_pretrained = model_pretrained.fit(X_train_pad, y_train, epochs=10, batch_size=32, validation_split=0.2)"
   ]
  },
  {
   "cell_type": "code",
   "execution_count": null,
   "id": "4abc86cd-e811-4cd9-bcc1-adee47c8102c",
   "metadata": {},
   "outputs": [],
   "source": [
    "print(\"Оцінка моделі з нуля:\")\n",
    "results_scratch = model_scratch.evaluate(X_test_pad, y_test, verbose=0)\n",
    "print(f\"Loss: {results_scratch[0]}, Accuracy: {results_scratch[1]}\")\n",
    "\n",
    "print(\"Оцінка моделі з pretrained embeddings:\")\n",
    "results_pretrained = model_pretrained.evaluate(X_test_pad, y_test, verbose=0)\n",
    "print(f\"Loss: {results_pretrained[0]}, Accuracy: {results_pretrained[1]}\")"
   ]
  },
  {
   "cell_type": "code",
   "execution_count": null,
   "id": "7679842f-674d-4781-a17b-34629f57f0d7",
   "metadata": {},
   "outputs": [],
   "source": [
    "plt.figure(figsize=(12, 6))\n",
    "plt.subplot(1, 2, 1)\n",
    "plt.plot(history_scratch.history['accuracy'], label='Train Accuracy (scratch)')\n",
    "plt.plot(history_scratch.history['val_accuracy'], label='Val Accuracy (scratch)')\n",
    "plt.plot(history_pretrained.history['accuracy'], label='Train Accuracy (pretrained)')\n",
    "plt.plot(history_pretrained.history['val_accuracy'], label='Val Accuracy (pretrained)')\n",
    "plt.title('Accuracy Comparison')\n",
    "plt.legend()"
   ]
  },
  {
   "cell_type": "code",
   "execution_count": null,
   "id": "953df46e-5390-4f98-9007-fe79ff870c5c",
   "metadata": {},
   "outputs": [],
   "source": [
    "plt.subplot(1, 2, 2)\n",
    "plt.plot(history_scratch.history['loss'], label='Train Loss (scratch)')\n",
    "plt.plot(history_scratch.history['val_loss'], label='Val Loss (scratch)')\n",
    "plt.plot(history_pretrained.history['loss'], label='Train Loss (pretrained)')\n",
    "plt.plot(history_pretrained.history['val_loss'], label='Val Loss (pretrained)')\n",
    "plt.title('Loss Comparison')\n",
    "plt.legend()\n",
    "\n",
    "plt.show()"
   ]
  },
  {
   "cell_type": "code",
   "execution_count": null,
   "id": "5af1d4f2-a206-4c79-90be-fca94bafac7e",
   "metadata": {},
   "outputs": [],
   "source": []
  }
 ],
 "metadata": {
  "kernelspec": {
   "display_name": "Python 3 (ipykernel)",
   "language": "python",
   "name": "python3"
  },
  "language_info": {
   "codemirror_mode": {
    "name": "ipython",
    "version": 3
   },
   "file_extension": ".py",
   "mimetype": "text/x-python",
   "name": "python",
   "nbconvert_exporter": "python",
   "pygments_lexer": "ipython3",
   "version": "3.12.3"
  }
 },
 "nbformat": 4,
 "nbformat_minor": 5
}
